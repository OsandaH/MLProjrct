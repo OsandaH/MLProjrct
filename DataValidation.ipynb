import pandas as pd
from sklearn.model_selection import train_test_split
from sklearn.preprocessing import StandardScaler

df = pd.read_csv('spotify_dataset.csv')


df.shape # rows and columns

null_values = df.isna()
num_nulls = null_values.sum()
print(num_nulls)

#Drop uri track artist cols
df = df.drop(columns= ['uri', 'track', 'artist'])

duplicates = df.duplicated()
num_dups = duplicates.sum()
print("Number of duplicates: ",num_dups)

df_unique = df.drop_duplicates() 
df_unique.shape

numericalData = df_unique.select_dtypes(include = 'number')

stats = pd.DataFrame({
    'Mean': numericalData.mean(),
    'Median': numericalData.median(),
    'Mode': numericalData.mode().iloc[0],  # Selecting the first mode
    'Variance': numericalData.var(),
    'Standard Deviation': numericalData.std(),
    'Minimum': numericalData.min(),
    'Maximum': numericalData.max()
})

stats

df_60s = df[df['decade'] == '60s']
duplicates = df.duplicated()
num_dups = duplicates.sum()
print("Number of duplicates: ",num_dups)

