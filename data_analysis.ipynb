import matplotlib.pyplot as plt
import seaborn as sns
import pandas as pd
from sklearn.preprocessing import StandardScaler, OneHotEncoder

# Load dataset
df = pd.read_csv('spotify_dataset.csv')

# Drop unnecessary columns
df = df.drop(columns=['uri', 'track', 'artist']) 

# Filter only songs from the 60s
df_60s = df[df['decade'] == '60s'].drop(columns=['decade'])

# Drop duplicate rows
df_unique_60s = df_60s.drop_duplicates()

# Categorical features to encode
categorical_columns = ['key', 'time_signature']

# One-Hot Encoding for categorical variables
encoder = OneHotEncoder(sparse_output=False, drop='first')  # Avoid dummy variable trap
encoded_cats = encoder.fit_transform(df_unique_60s[categorical_columns])
df_encoded_60s = pd.DataFrame(encoded_cats, 
                          columns=encoder.get_feature_names_out(categorical_columns),
                          index=df_unique_60s.index)

# Select numerical columns (excluding categorical ones)
numerical_columns = df_unique_60s.select_dtypes(include=['number']).columns.difference(categorical_columns)

# Standardize numerical features
scaler = StandardScaler()
df_scaled_60s = pd.DataFrame(scaler.fit_transform(df_unique_60s[numerical_columns]), 
                         columns=numerical_columns, 
                         index=df_unique_60s.index)

# Combine scaled numerical and encoded categorical data
df_processed_60s = pd.concat([df_scaled_60s, df_encoded_60s], axis=1)

# Define popular and unpopular songs (assuming popularity > 0 is 'popular')
df_unique_60s['popularity_label'] = df_unique_60s['popularity'].apply(lambda x: 'popular' if x > 0 else 'unpopular')

# Set seaborn style
sns.set_style("whitegrid")

# Popularity count plot
plt.figure(figsize=(6,4))
sns.countplot(x=df_unique_60s['popularity_label'], palette='pastel')
plt.title("Count of Popular and Unpopular Songs")
plt.xlabel("Popularity Label")
plt.ylabel("Count")
plt.show()

# Danceability vs Popularity
plt.figure(figsize=(6,4))
sns.boxplot(x='popularity_label', y='danceability', data=df_unique_60s, palette='coolwarm')
plt.title("Danceability Scores of Songs by Popularity")
plt.xlabel("Popularity Label")
plt.ylabel("Danceability Score")
plt.show()

# Valence vs Popularity
plt.figure(figsize=(6,4))
sns.boxplot(x='popularity_label', y='valence', data=df_unique_60s, palette='muted')
plt.title("Valence Scores of Songs by Popularity")
plt.xlabel("Popularity Label")
plt.ylabel("Valence Score")
plt.show()

# Tempo Distribution
plt.figure(figsize=(6,4))
sns.histplot(df_unique_60s['tempo'], bins=30, kde=True, color='purple')
plt.title("Tempo Distribution of Songs")
plt.xlabel("Tempo (BPM)")
plt.ylabel("Count")
plt.show()

# Loudness vs Energy Scatter Plot
plt.figure(figsize=(6,4))
sns.scatterplot(x='loudness', y='energy', data=df_unique_60s, alpha=0.7)
plt.title("Loudness vs Energy")
plt.xlabel("Loudness (dB)")
plt.ylabel("Energy")
plt.show()

# Mode Distribution
plt.figure(figsize=(6,4))
sns.countplot(x=df_unique_60s['mode'], palette='coolwarm')
plt.title("Mode Distribution (Major=1, Minor=0)")
plt.xlabel("Mode")
plt.ylabel("Count")
plt.show()

# Liveness vs Popularity
plt.figure(figsize=(6,4))
sns.boxplot(x='popularity_label', y='liveness', data=df_unique_60s, palette='dark')
plt.title("Liveness Scores of Songs by Popularity")
plt.xlabel("Popularity Label")
plt.ylabel("Liveness Score")
plt.show()

# Correlation Heatmap
plt.figure(figsize=(10,8))
sns.heatmap(df_processed_60s.corr(), annot=True, fmt=".2f", cmap='coolwarm', linewidths=0.5)
plt.title("Feature Correlation Heatmap")
plt.show()
