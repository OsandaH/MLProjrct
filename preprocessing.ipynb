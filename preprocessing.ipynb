import pandas as pd
from sklearn.model_selection import train_test_split
from sklearn.preprocessing import StandardScaler, OneHotEncoder

df = pd.read_csv('spotify_dataset.csv')

#Drop uri track artist cols
df = df.drop(columns= ['uri', 'track', 'artist'])

#Filter 60s
df_60s = df[df['decade']== '60s']

#Drop decades col
df_60s = df_60s.drop(columns= ['decade'])

# Categorical features to encode
categorical_columns = ['key', 'time_signature']

# One-Hot Encode categorical features
encoder = OneHotEncoder(sparse_output=False, drop='first')  # Avoid dummy variable trap
encoded_cats = encoder.fit_transform(df_60s[categorical_columns])
df_60_enc = pd.DataFrame(encoded_cats, 
                               columns=encoder.get_feature_names_out(categorical_columns),
                               index=df_60s.index)

#Numerical columns 
numerical_columns = df_60s.select_dtypes(include = 'number').columns
df_numerical = df_60s[numerical_columns]

#Standadization
scaler = StandardScaler()
df_60_nums = scaler.fit_transform(df_numerical)
df_60_scaled = pd.DataFrame(df_60_nums, columns=numerical_columns)


# Combine scaled numerical and encoded categorical data
df_processed = pd.concat([df_60_scaled, df_60_enc], axis=1)
