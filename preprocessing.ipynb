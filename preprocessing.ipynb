import pandas as pd
from sklearn.model_selection import train_test_split
from sklearn.preprocessing import StandardScaler

df = pd.read_csv('spotify_dataset.csv')

#Drop uri track artist cols
df = df.drop(columns= ['uri', 'track', 'artist'])

#Filter 60s
df_60s = df[df['decade']== '60s']

#Drop decades col
df_60s = df_60s.drop(columns= ['decade'])

categorical_columns = df_60s.select_dtypes(include = 'object').columns
df_60_encoded = pd.get_dummies(df_60s, columns = categorical_columns, dtype = int)

numerical_columns = df_60s.select_dtypes(include = 'number').columns
df_numerical = df_60s[numerical_columns]

scaler = StandardScaler()
df_60_scaled = scaler.fit_transform(df_numerical)
df_60_scaled = pd.DataFrame(df_60_scaled, columns=numerical_columns)
