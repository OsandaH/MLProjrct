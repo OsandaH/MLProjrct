import pandas as pd
from sklearn.model_selection import train_test_split
from sklearn.preprocessing import StandardScaler, OneHotEncoder 

# Load dataset
df = pd.read_csv('spotify_dataset.csv')

# Drop unnecessary columns
df = df.drop(columns=['uri', 'track', 'artist']) 

# Filter only songs from the 60s
df_60s = df[df['decade'] == '60s'].drop(columns=['decade'])

# Drop duplicate rows
df_unique_60s = df_60s.drop_duplicates()

# Categorical features to encode
categorical_columns = ['key', 'time_signature']

# One-Hot Encoding for categorical variables
encoder = OneHotEncoder(sparse_output=False, drop='first')  # Avoid dummy variable trap
encoded_cats = encoder.fit_transform(df_unique_60s[categorical_columns])
df_encoded_60s = pd.DataFrame(encoded_cats, 
                          columns=encoder.get_feature_names_out(categorical_columns),
                          index=df_unique_60s.index)

# Select numerical columns (excluding categorical ones)
numerical_columns = df_unique_60s.select_dtypes(include=['number']).columns.difference(categorical_columns)

# Standardize numerical features
scaler = StandardScaler()
df_scaled_60s = pd.DataFrame(scaler.fit_transform(df_unique_60s[numerical_columns]), 
                         columns=numerical_columns, 
                         index=df_unique_60s.index)

# Combine scaled numerical and encoded categorical data
df_processed_60s = pd.concat([df_scaled_60s, df_encoded_60s], axis=1)
