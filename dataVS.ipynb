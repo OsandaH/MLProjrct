import matplotlib.pyplot as plt
import seaborn as sns

# Compute average popularity per decade
decade_popularity = df.groupby("decade")["popularity"].mean().reset_index()

# Plot popularity trends by decade
plt.figure(figsize=(10, 5))
sns.barplot(x="decade", y="popularity", data=decade_popularity, palette="coolwarm")
plt.xlabel("Decade")
plt.ylabel("Average Popularity")
plt.title("Average Popularity by Decade")
plt.xticks(rotation=45)
plt.show()
