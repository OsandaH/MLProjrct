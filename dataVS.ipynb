import pandas as pd
import seaborn as sns
import matplotlib.pyplot as plt

# Load dataset
df = pd.read_csv("spotify_dataset.csv")

# Map string decades to numeric decades
decade_mapping = {
    "60s": 1960,
    "70s": 1970,
    "80s": 1980,
    "90s": 1990,
    "00s": 2000,
    "10s": 2010,
    "20s": 2020  # if applicable
}

# Apply mapping
df["decade_numeric"] = df["decade"].map(decade_mapping)

# Check for unmapped values
if df["decade_numeric"].isnull().any():
    print("Unmapped values found in 'decade':", df[df["decade_numeric"].isnull()]["decade"].unique())

# Compute correlation
correlation = df[["decade_numeric", "popularity"]].corr()
print("Correlation between Decade and Popularity:\n", correlation)

# Visualize correlation using heatmap
plt.figure(figsize=(6, 4))
sns.heatmap(correlation, annot=True, cmap="coolwarm", fmt=".2f")
plt.title("Decade-Popularity Correlation Heatmap")
plt.show()

# Compute average popularity per decade
decade_popularity = df.groupby("decade_numeric")["popularity"].mean().reset_index()

# Plot popularity trends by decade
plt.figure(figsize=(10, 5))
sns.barplot(x="decade_numeric", y="popularity", data=decade_popularity, palette="coolwarm")
plt.xlabel("Decade")
plt.ylabel("Average Popularity")
plt.title("Average Popularity by Decade")
plt.xticks(rotation=45)
plt.show()
